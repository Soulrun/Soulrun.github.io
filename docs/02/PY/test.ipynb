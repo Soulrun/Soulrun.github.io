{
 "cells": [
  {
   "cell_type": "code",
   "execution_count": 27,
   "metadata": {},
   "outputs": [
    {
     "name": "stdout",
     "output_type": "stream",
     "text": [
      "[6, 4.5, 3, 2, 1]\n"
     ]
    }
   ],
   "source": [
    "a = [1,2,3,4.5,6]\n",
    "\n",
    "b = a[5::-1] # -1 表示了反向历遍\n",
    "\n",
    "print(b)"
   ]
  },
  {
   "cell_type": "code",
   "execution_count": 36,
   "metadata": {},
   "outputs": [
    {
     "name": "stdout",
     "output_type": "stream",
     "text": [
      "! gym love I\n"
     ]
    }
   ],
   "source": [
    "def reversewrd(str):\n",
    "    str_split = str.split(\" \") # 以空格区分\n",
    "    str_split = str_split[-1::-1]\n",
    "    str_n = ' '.join(str_split)\n",
    "    return print(str_n)\n",
    "\n",
    "reversewrd('I love gym !')"
   ]
  }
 ],
 "metadata": {
  "interpreter": {
   "hash": "ecf5722fdaf1897a315d257d89d94520bfcaa453217d5becf09b39e73618b0de"
  },
  "kernelspec": {
   "display_name": "Python 3.9.5 ('base')",
   "language": "python",
   "name": "python3"
  },
  "language_info": {
   "codemirror_mode": {
    "name": "ipython",
    "version": 3
   },
   "file_extension": ".py",
   "mimetype": "text/x-python",
   "name": "python",
   "nbconvert_exporter": "python",
   "pygments_lexer": "ipython3",
   "version": "3.9.5"
  },
  "orig_nbformat": 4
 },
 "nbformat": 4,
 "nbformat_minor": 2
}
